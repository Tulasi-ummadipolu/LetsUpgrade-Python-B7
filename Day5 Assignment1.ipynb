{
  "nbformat": 4,
  "nbformat_minor": 0,
  "metadata": {
    "colab": {
      "name": "Untitled2.ipynb",
      "provenance": [],
      "authorship_tag": "ABX9TyNmbunWJZHuGjYCoDvS9plt",
      "include_colab_link": true
    },
    "kernelspec": {
      "name": "python3",
      "display_name": "Python 3"
    }
  },
  "cells": [
    {
      "cell_type": "markdown",
      "metadata": {
        "id": "view-in-github",
        "colab_type": "text"
      },
      "source": [
        "<a href=\"https://colab.research.google.com/github/Tulasi-ummadipolu/LetsUpgrade-Python-B7/blob/master/Day5%20Assignment1.ipynb\" target=\"_parent\"><img src=\"https://colab.research.google.com/assets/colab-badge.svg\" alt=\"Open In Colab\"/></a>"
      ]
    },
    {
      "cell_type": "code",
      "metadata": {
        "id": "8HClttjADF6L",
        "colab_type": "code",
        "colab": {
          "base_uri": "https://localhost:8080/",
          "height": 68
        },
        "outputId": "abd78813-018e-418c-b71f-99ad34577114"
      },
      "source": [
        "check_list = [1,1,5,7,9,6,4]\n",
        "sub_list = [1,1,5]\n",
        "print(\"original list : \" +str (check_list))\n",
        "print(\"original sublist : \" +str (sub_list))\n",
        "flag=0\n",
        "if (set (sub_list).issubset(set (check_list))):\n",
        "  flag = 1\n",
        "if (flag):\n",
        "  print(\"Its a Match.\")\n",
        "else :\n",
        "  rint(\"Its Gone\")"
      ],
      "execution_count": 88,
      "outputs": [
        {
          "output_type": "stream",
          "text": [
            "original list : [1, 1, 5, 7, 9, 6, 4]\n",
            "original sublist : [1, 1, 5]\n",
            "Its a Match.\n"
          ],
          "name": "stdout"
        }
      ]
    }
  ]
}