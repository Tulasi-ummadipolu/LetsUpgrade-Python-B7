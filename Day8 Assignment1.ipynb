{
  "nbformat": 4,
  "nbformat_minor": 0,
  "metadata": {
    "colab": {
      "name": "Untitled2.ipynb",
      "provenance": [],
      "authorship_tag": "ABX9TyMI8m6Hx6V+Xn8yEbIYJ41U",
      "include_colab_link": true
    },
    "kernelspec": {
      "name": "python3",
      "display_name": "Python 3"
    }
  },
  "cells": [
    {
      "cell_type": "markdown",
      "metadata": {
        "id": "view-in-github",
        "colab_type": "text"
      },
      "source": [
        "<a href=\"https://colab.research.google.com/github/Tulasi-ummadipolu/LetsUpgrade-Python-B7/blob/master/Day8%20Assignment1.ipynb\" target=\"_parent\"><img src=\"https://colab.research.google.com/assets/colab-badge.svg\" alt=\"Open In Colab\"/></a>"
      ]
    },
    {
      "cell_type": "code",
      "metadata": {
        "id": "WbB6st4Om4yu",
        "colab_type": "code",
        "colab": {}
      },
      "source": [
        "def fibonacci(num):\n",
        "    def fibo(n):\n",
        "        if n<=0:\n",
        "            print(\"The number is incorrect\")\n",
        "        elif n==1:\n",
        "            return 0\n",
        "        elif n==2:\n",
        "            return 1\n",
        "        else:\n",
        "            return ((fibo(n-1) + fibo(n-2)))\n",
        "        return num(n)\n",
        "    return fibo"
      ],
      "execution_count": 1,
      "outputs": []
    },
    {
      "cell_type": "code",
      "metadata": {
        "id": "GI1j8z5ipvs5",
        "colab_type": "code",
        "colab": {}
      },
      "source": [
        "@fibonacci\n",
        "def fibo_num(n):\n",
        "    print(n,\"Is the number\")"
      ],
      "execution_count": 2,
      "outputs": []
    },
    {
      "cell_type": "code",
      "metadata": {
        "id": "X_m4H5Ibp6I_",
        "colab_type": "code",
        "colab": {
          "base_uri": "https://localhost:8080/",
          "height": 34
        },
        "outputId": "3bb95ae8-0ab9-44df-cc9a-29e65adeaefe"
      },
      "source": [
        "fibo_num(1)"
      ],
      "execution_count": 3,
      "outputs": [
        {
          "output_type": "execute_result",
          "data": {
            "text/plain": [
              "0"
            ]
          },
          "metadata": {
            "tags": []
          },
          "execution_count": 3
        }
      ]
    },
    {
      "cell_type": "code",
      "metadata": {
        "id": "Zki1MNWvp_dt",
        "colab_type": "code",
        "colab": {
          "base_uri": "https://localhost:8080/",
          "height": 34
        },
        "outputId": "301c3332-712d-4a8f-f687-9b7d8f550e85"
      },
      "source": [
        "fibo_num(10)"
      ],
      "execution_count": 4,
      "outputs": [
        {
          "output_type": "execute_result",
          "data": {
            "text/plain": [
              "34"
            ]
          },
          "metadata": {
            "tags": []
          },
          "execution_count": 4
        }
      ]
    },
    {
      "cell_type": "code",
      "metadata": {
        "id": "mWdMslqLqBDu",
        "colab_type": "code",
        "colab": {
          "base_uri": "https://localhost:8080/",
          "height": 34
        },
        "outputId": "68e0c5b4-a37f-4705-d475-b56819f192c1"
      },
      "source": [
        "fibo_num(20)"
      ],
      "execution_count": 5,
      "outputs": [
        {
          "output_type": "execute_result",
          "data": {
            "text/plain": [
              "4181"
            ]
          },
          "metadata": {
            "tags": []
          },
          "execution_count": 5
        }
      ]
    }
  ]
}