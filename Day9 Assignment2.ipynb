{
  "nbformat": 4,
  "nbformat_minor": 0,
  "metadata": {
    "colab": {
      "name": "Untitled3.ipynb",
      "provenance": [],
      "authorship_tag": "ABX9TyNbVWyeGDRbf7qWYRX7lKno",
      "include_colab_link": true
    },
    "kernelspec": {
      "name": "python3",
      "display_name": "Python 3"
    }
  },
  "cells": [
    {
      "cell_type": "markdown",
      "metadata": {
        "id": "view-in-github",
        "colab_type": "text"
      },
      "source": [
        "<a href=\"https://colab.research.google.com/github/Tulasi-ummadipolu/LetsUpgrade-Python-B7/blob/master/Day9%20Assignment2.ipynb\" target=\"_parent\"><img src=\"https://colab.research.google.com/assets/colab-badge.svg\" alt=\"Open In Colab\"/></a>"
      ]
    },
    {
      "cell_type": "code",
      "metadata": {
        "id": "ylE4p4ZEvTNv",
        "colab_type": "code",
        "colab": {
          "base_uri": "https://localhost:8080/",
          "height": 136
        },
        "outputId": "a630abb7-b0c7-4756-b0cd-5628bf43bd5a"
      },
      "source": [
        "start=input()\n",
        "if start=='x':\n",
        "    exit()\n",
        "else:\n",
        "    end=input()\n",
        "    lower=int(start)\n",
        "    upper=int(end)\n",
        "    for num in range(lower,upper+1):\n",
        "        top=0\n",
        "        temp=num\n",
        "        while temp!=0:\n",
        "            dig=temp%10\n",
        "            top+=dig**3\n",
        "            temp//=10\n",
        "        if num == top:\n",
        "            print(num)"
      ],
      "execution_count": 18,
      "outputs": [
        {
          "output_type": "stream",
          "text": [
            "1\n",
            "1000\n",
            "1\n",
            "153\n",
            "370\n",
            "371\n",
            "407\n"
          ],
          "name": "stdout"
        }
      ]
    }
  ]
}