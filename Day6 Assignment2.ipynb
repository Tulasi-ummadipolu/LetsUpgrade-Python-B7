{
  "nbformat": 4,
  "nbformat_minor": 0,
  "metadata": {
    "colab": {
      "name": "Untitled2.ipynb",
      "provenance": [],
      "authorship_tag": "ABX9TyM3sGREeXKTLMo51Y7jV9xM",
      "include_colab_link": true
    },
    "kernelspec": {
      "name": "python3",
      "display_name": "Python 3"
    }
  },
  "cells": [
    {
      "cell_type": "markdown",
      "metadata": {
        "id": "view-in-github",
        "colab_type": "text"
      },
      "source": [
        "<a href=\"https://colab.research.google.com/github/Tulasi-ummadipolu/LetsUpgrade-Python-B7/blob/master/Day6%20Assignment2.ipynb\" target=\"_parent\"><img src=\"https://colab.research.google.com/assets/colab-badge.svg\" alt=\"Open In Colab\"/></a>"
      ]
    },
    {
      "cell_type": "code",
      "metadata": {
        "id": "0y6FGJU_Hx38",
        "colab_type": "code",
        "colab": {}
      },
      "source": [
        "import math\n",
        "pi=math.pi\n",
        "class cone():\n",
        "    def __init__(self,Radius,Height):\n",
        "        self.Radius=Radius\n",
        "        self.Height=Height\n",
        "        \n",
        "    def volume(self):\n",
        "        volume=(1/3) * pi * self.Radius * self.Height\n",
        "        print(\"\\n Cone Volume:\",volume)\n",
        "    \n",
        "    def surfacearea(self):\n",
        "        surfacearea=pi * self.Radius * self.Height + pi * self.Radius * self.Radius   \n",
        "        print(\"\\n Cone Surfacearea:\",surfacearea)"
      ],
      "execution_count": 98,
      "outputs": []
    },
    {
      "cell_type": "code",
      "metadata": {
        "id": "1spm2-ruH33L",
        "colab_type": "code",
        "colab": {
          "base_uri": "https://localhost:8080/",
          "height": 51
        },
        "outputId": "2cb5b119-5e09-4a1b-9333-95962a99b23a"
      },
      "source": [
        "c=cone(5,6)\n",
        "c.volume()"
      ],
      "execution_count": 99,
      "outputs": [
        {
          "output_type": "stream",
          "text": [
            "\n",
            " Cone Volume: 31.415926535897928\n"
          ],
          "name": "stdout"
        }
      ]
    },
    {
      "cell_type": "code",
      "metadata": {
        "id": "vteQT9m2IB8K",
        "colab_type": "code",
        "colab": {
          "base_uri": "https://localhost:8080/",
          "height": 51
        },
        "outputId": "9c79f15c-d77d-439a-d9f0-666be0765392"
      },
      "source": [
        "\n",
        "c.surfacearea()"
      ],
      "execution_count": 100,
      "outputs": [
        {
          "output_type": "stream",
          "text": [
            "\n",
            " Cone Surfacearea: 172.7875959474386\n"
          ],
          "name": "stdout"
        }
      ]
    }
  ]
}