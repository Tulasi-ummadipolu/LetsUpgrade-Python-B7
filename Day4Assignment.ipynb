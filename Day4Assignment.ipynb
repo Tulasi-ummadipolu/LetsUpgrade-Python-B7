{
  "nbformat": 4,
  "nbformat_minor": 0,
  "metadata": {
    "colab": {
      "name": "Untitled1.ipynb",
      "provenance": [],
      "authorship_tag": "ABX9TyNO41278Gvj9ByJxp8iE05G",
      "include_colab_link": true
    },
    "kernelspec": {
      "name": "python3",
      "display_name": "Python 3"
    }
  },
  "cells": [
    {
      "cell_type": "markdown",
      "metadata": {
        "id": "view-in-github",
        "colab_type": "text"
      },
      "source": [
        "<a href=\"https://colab.research.google.com/github/Tulasi-ummadipolu/LetsUpgrade-Python-B7/blob/master/Day4Assignment.ipynb\" target=\"_parent\"><img src=\"https://colab.research.google.com/assets/colab-badge.svg\" alt=\"Open In Colab\"/></a>"
      ]
    },
    {
      "cell_type": "code",
      "metadata": {
        "id": "IkW4yzuXzzLY",
        "colab_type": "code",
        "colab": {
          "base_uri": "https://localhost:8080/",
          "height": 34
        },
        "outputId": "57ff0b10-c28b-4335-a740-3858d63f638b"
      },
      "source": [
        "lower=1042000\n",
        "upper=702648265\n",
        "for i in range(lower,upper+1):\n",
        "    r=len(str(i))\n",
        "    n=i\n",
        "    s=0\n",
        "    while n>0:\n",
        "        d=n % 10\n",
        "        s+=d**r\n",
        "        n//=10\n",
        "    if i==s:\n",
        "        print(i)\n",
        "        break"
      ],
      "execution_count": 2,
      "outputs": [
        {
          "output_type": "stream",
          "text": [
            "1741725\n"
          ],
          "name": "stdout"
        }
      ]
    }
  ]
}