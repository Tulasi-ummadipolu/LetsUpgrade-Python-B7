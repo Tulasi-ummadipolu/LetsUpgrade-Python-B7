{
  "nbformat": 4,
  "nbformat_minor": 0,
  "metadata": {
    "colab": {
      "name": "Untitled2.ipynb",
      "provenance": [],
      "authorship_tag": "ABX9TyO4RMQmkARHGtt+8VixWiRQ",
      "include_colab_link": true
    },
    "kernelspec": {
      "name": "python3",
      "display_name": "Python 3"
    }
  },
  "cells": [
    {
      "cell_type": "markdown",
      "metadata": {
        "id": "view-in-github",
        "colab_type": "text"
      },
      "source": [
        "<a href=\"https://colab.research.google.com/github/Tulasi-ummadipolu/LetsUpgrade-Python-B7/blob/master/Day6%20Assignment-1.ipynb\" target=\"_parent\"><img src=\"https://colab.research.google.com/assets/colab-badge.svg\" alt=\"Open In Colab\"/></a>"
      ]
    },
    {
      "cell_type": "code",
      "metadata": {
        "id": "HZxeHtvaFwBc",
        "colab_type": "code",
        "colab": {}
      },
      "source": [
        "class bank_account():\n",
        "    def __init__(self,owner_name,balance):\n",
        "        self.owner_name=owner_name\n",
        "        self.balance=balance\n",
        "        \n",
        "    def deposit(self):\n",
        "        print(self.owner_name)\n",
        "        amount=float(input())\n",
        "        self.balance+=amount\n",
        "        print(\"\\n Amount Deposited\",amount)\n",
        "        print(\"\\n Total Balance\",self.balance)\n",
        "    def withdraw(self):\n",
        "        print(self.owner_name)\n",
        "        amount=float(input())\n",
        "        if self.balance>=amount:\n",
        "            self.balance-=amount\n",
        "            print(\"\\n Withdraw amount\",amount)\n",
        "            print(\"\\n Total Balance\",self.balance)\n",
        "        else:\n",
        "            print(\"\\n Insufficient Balance! Your Available Balance is\",self.balance)"
      ],
      "execution_count": 90,
      "outputs": []
    },
    {
      "cell_type": "code",
      "metadata": {
        "id": "Q14Njc85F1sC",
        "colab_type": "code",
        "colab": {
          "base_uri": "https://localhost:8080/",
          "height": 119
        },
        "outputId": "911a5150-bea4-4ecb-c44e-b77301d91688"
      },
      "source": [
        "d=bank_account(\"Tulasi\",100000)\n",
        "d.deposit()"
      ],
      "execution_count": 93,
      "outputs": [
        {
          "output_type": "stream",
          "text": [
            "Tulasi\n",
            "5000\n",
            "\n",
            " Amount Deposited 5000.0\n",
            "\n",
            " Total Balance 105000.0\n"
          ],
          "name": "stdout"
        }
      ]
    },
    {
      "cell_type": "code",
      "metadata": {
        "id": "YRAr26-LGj0n",
        "colab_type": "code",
        "colab": {
          "base_uri": "https://localhost:8080/",
          "height": 119
        },
        "outputId": "87727451-6625-47a4-85ce-17113c3b8645"
      },
      "source": [
        "d.withdraw()"
      ],
      "execution_count": 95,
      "outputs": [
        {
          "output_type": "stream",
          "text": [
            "Tulasi\n",
            "2500\n",
            "\n",
            " Withdraw amount 2500.0\n",
            "\n",
            " Total Balance 102500.0\n"
          ],
          "name": "stdout"
        }
      ]
    },
    {
      "cell_type": "code",
      "metadata": {
        "id": "Af6HJMUHG0uI",
        "colab_type": "code",
        "colab": {
          "base_uri": "https://localhost:8080/",
          "height": 119
        },
        "outputId": "f08dbfa3-741f-4fac-abae-5f1e5a4d9a57"
      },
      "source": [
        "d.deposit()"
      ],
      "execution_count": 96,
      "outputs": [
        {
          "output_type": "stream",
          "text": [
            "Tulasi\n",
            "6000\n",
            "\n",
            " Amount Deposited 6000.0\n",
            "\n",
            " Total Balance 108500.0\n"
          ],
          "name": "stdout"
        }
      ]
    },
    {
      "cell_type": "code",
      "metadata": {
        "id": "seX5lz8GG-32",
        "colab_type": "code",
        "colab": {
          "base_uri": "https://localhost:8080/",
          "height": 85
        },
        "outputId": "456809cc-1160-4635-cb5e-0db97f768739"
      },
      "source": [
        "d.withdraw()"
      ],
      "execution_count": 97,
      "outputs": [
        {
          "output_type": "stream",
          "text": [
            "Tulasi\n",
            "120000\n",
            "\n",
            " Insufficient Balance! Your Available Balance is 108500.0\n"
          ],
          "name": "stdout"
        }
      ]
    }
  ]
}